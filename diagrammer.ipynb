{
 "cells": [
  {
   "cell_type": "code",
   "execution_count": 20,
   "id": "a589054f-b02d-4eee-a5b0-87e2476f41b6",
   "metadata": {},
   "outputs": [],
   "source": [
    "from diagrams import Diagram, Cluster, Edge\n",
    "from diagrams.custom import Custom\n",
    "from diagrams.programming.flowchart import Inspection\n",
    "from diagrams.aws.storage import S3\n",
    "from diagrams.onprem.compute import Server"
   ]
  },
  {
   "cell_type": "code",
   "execution_count": 25,
   "id": "023610d6-395e-4cfb-bb3b-c3c6c5c1b096",
   "metadata": {},
   "outputs": [],
   "source": [
    "with Diagram(\"LSTM Model Summary\", filename=\"./assets/custom_local\", direction=\"LR\"):\n",
    "    embedding = Server(\"Embeddings\")\n",
    "    dropout = S3(\"Spatial Dropout\")\n",
    "    lstm = Custom(\"LSTM\", \"./LSTM_Cell.svg.png\")\n",
    "    with Cluster(\"Dense Layer\"):\n",
    "        output = [Inspection(\"Non-sarcastic\"), Inspection(\"Sarcastic\")]\n",
    "    embedding >> Edge(color=\"firebrick\", style=\"bold\") >> dropout >> Edge(color=\"firebrick\", style=\"bold\") >> lstm >> Edge(color=\"firebrick\", style=\"bold\")>> output"
   ]
  },
  {
   "cell_type": "code",
   "execution_count": null,
   "id": "528d6009-cc53-4167-b746-928d03bf0e4b",
   "metadata": {},
   "outputs": [],
   "source": []
  }
 ],
 "metadata": {
  "kernelspec": {
   "display_name": "Python 3 (ipykernel)",
   "language": "python",
   "name": "python3"
  },
  "language_info": {
   "codemirror_mode": {
    "name": "ipython",
    "version": 3
   },
   "file_extension": ".py",
   "mimetype": "text/x-python",
   "name": "python",
   "nbconvert_exporter": "python",
   "pygments_lexer": "ipython3",
   "version": "3.10.12"
  }
 },
 "nbformat": 4,
 "nbformat_minor": 5
}
